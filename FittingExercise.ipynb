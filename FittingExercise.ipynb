{
 "cells": [
  {
   "cell_type": "markdown",
   "metadata": {},
   "source": [
    "# Fitting of experimental chemical kinetics data\n",
    "You perform some experiments in a batch reactor to determine the rate expression and thermochemistry for the reversible chemical reaction\n",
    "$\\require{mhchem}$\n",
    "$$\\ce{A <=> B}$$\n",
    "\n",
    "Recall from thermodynamics that \n",
    "$\\Delta G = \\Delta H - T \\Delta S$\n",
    "and $\\Delta G = R T \\ln K_a$\n",
    "where $K_a$ is the activity-based equilibrium constant of the chemical reaction, $R$ is the molar gas constant (8.314 J/mol/K) and $T$ is the temperature in Kelvin.\n",
    "\n",
    "If we assume ideal solution (unit fugacity coefficients) then $K_a = K_c$ giving us the concentration-based equilibrium constant $K_c$. \n",
    "From kinetics you recall\n",
    "$K_c = \\frac{k_f}{k_r}$ \n",
    "where \n",
    "$k_f$ is the forward rate coefficient and $k_r$ is the reverse rate coefficient.\n",
    "i.e. the rate of the reaction $\\ce{A->B}$ is $k_f \\times C_A$\n",
    "and the reverse reaction $\\ce{B->A}$ is $k_r \\times C_B$\n",
    "where $C_A$ and $C_B$ are the concentrations of species A and B respectively. \n",
    "In a batch reactor $\\frac{dN_A}{dt} = r_{A(net)} V$, so (dividing through by the reactor volume $V$) $\\frac{dC_A}{dt} = r_{A(net)}$ where $r_{A(net)}$ is the net rate of formation of species A, i.e. $r_{A(net)} = k_r C_B - k_f C_A$.\n",
    "Assume the forward rate coefficient $k_f$ follows Arrhenius form, $k_f = A \\exp\\left(\\frac{-E_A}{R T}\\right)$ where $A$ is the \"pre-exponential factor\" and $E_A$ is the activation energy.\n",
    "\n",
    "Fortunately, in this case you have good reason to believe that species A and B have very similar temperature-dependent heat capacities, so that $\\Delta H_{rxn}$ and $\\Delta S_{rxn}$ are independent of temperature.\n",
    "\n",
    "You start the experiment with no B ($C_B=0$), and at time zero have some way to initiate the reaction, starting with a set concentration of $C_A$. \n",
    "\n",
    "You wish to determine the four paramaters:\n",
    "$log_{10} A$,\n",
    "$E_A$,\n",
    "$\\Delta H_{rxn}$,\n",
    "$\\Delta S_{rxn}$.\n",
    "\n",
    "Based on a literature search, quantum chemistry calculations, and prior experience, your current estimates are as follows:\n",
    "```\n",
    "logA = 6.  # base-ten logarithm of A in s^-1\n",
    "Ea = 45.   # Ea in kJ/mol\n",
    "dH = -10.  # ∆H in kJ/mol\n",
    "dS = -50.  # ∆S in J/mol/K\n",
    "```\n"
   ]
  },
  {
   "cell_type": "code",
   "execution_count": 1,
   "metadata": {
    "collapsed": false
   },
   "outputs": [],
   "source": [
    "%matplotlib inline\n",
    "import numpy as np\n",
    "import scipy.integrate\n",
    "from matplotlib import pyplot as plt\n",
    "\n",
    "#import random\n",
    "#import SALib as sa\n",
    "#import SALib.sample\n",
    "#from SALib.sample import morris as ms\n",
    "#from SALib.analyze import morris as ma\n",
    "#from SALib.plotting import morris as mp\n"
   ]
  },
  {
   "cell_type": "code",
   "execution_count": 2,
   "metadata": {
    "collapsed": true
   },
   "outputs": [],
   "source": [
    "# This cell just tries to make graphs look nicer\n",
    "try:\n",
    "    import seaborn as sns\n",
    "except ImportError:\n",
    "    # This block will be run if there's an ImportError, i.e you don't have seaborn installed.\n",
    "    sns = False\n",
    "    print (\"If you want to try different figure formatting, \"\n",
    "           \"type 'conda install seaborn' at an anaconda command prompt or terminal. \"\n",
    "           \"See https://stanford.edu/~mwaskom/software/seaborn/ for details\")\n",
    "    # If not using seaborn, we can still control the size of the figures this way\n",
    "    from pylab import rcParams\n",
    "    rcParams['figure.figsize'] = 3, 3\n",
    "else:\n",
    "    # This block will be run if there is no ImportError\n",
    "    sns.set_style(\"ticks\")\n",
    "    sns.set_context(\"paper\",rc={\"figure.figsize\": (2, 2)})"
   ]
  },
  {
   "cell_type": "markdown",
   "metadata": {},
   "source": [
    "We create a \"named tuple\" data type to store the exprimental data in."
   ]
  },
  {
   "cell_type": "code",
   "execution_count": 3,
   "metadata": {
    "collapsed": false
   },
   "outputs": [],
   "source": [
    "from collections import namedtuple\n",
    "ExperimentData = namedtuple('ExperimentData', ['T', 'cA_start', 'times', 'cA'])\n",
    "\n",
    "def plot_experiment(e):\n",
    "    \"\"\"\n",
    "    Plots the experimental data provided in 'e' \n",
    "    which should be of the type ExperimentData.\n",
    "    \"\"\"\n",
    "    plt.plot(0, e.cA_start, 'ko')\n",
    "    plt.plot(e.times, e.cA,':o', label=\"T={:.0f}K\".format(e.T))\n",
    "    plt.ylim(0,)\n",
    "    plt.ylabel('$C_A$ (mol/L)')\n",
    "    plt.xlabel('time (s)')\n",
    "    plt.legend()"
   ]
  },
  {
   "cell_type": "markdown",
   "metadata": {},
   "source": [
    "Now here are the data from your three experiments:"
   ]
  },
  {
   "cell_type": "code",
   "execution_count": 4,
   "metadata": {
    "collapsed": false
   },
   "outputs": [
    {
     "name": "stdout",
     "output_type": "stream",
     "text": [
      "Experiment 0 was at T=298.15K and ran for 100 seconds\n",
      "Experiment 1 was at T=308.15K and ran for 100 seconds\n",
      "Experiment 2 was at T=323.15K and ran for 100 seconds\n"
     ]
    },
    {
     "data": {
      "image/png": "[encoded data removed]",
      "text/plain": [
       "<matplotlib.figure.Figure at 0x10f684ef0>"
      ]
     },
     "metadata": {},
     "output_type": "display_data"
    }
   ],
   "source": [
    "from numpy import array\n",
    "experiments = [ExperimentData(T=298.15, \n",
    "                              cA_start=10.0, \n",
    "                              times=array([ 10,  20,  30,  40,  50,  60,  70,  80,  90, 100]), \n",
    "                              cA=array([ 8.649,  7.441,  7.141,  6.366,  6.215, 5.990, 5.852,  5.615,  5.481 ,  5.644])), \n",
    "               ExperimentData(T=308.15, \n",
    "                              cA_start=10.0, \n",
    "                              times=array([ 10,  20,  30,  40,  50,  60,  70,  80,  90, 100]), \n",
    "                              cA=array([ 7.230,  6.073,  5.452,  5.317,  5.121, 4.998,  4.951,  4.978,  5.015,  5.036])), \n",
    "               ExperimentData(T=323.15, \n",
    "                              cA_start=10.0, \n",
    "                              times=array([ 10,  20,  30,  40,  50,  60,  70,  80,  90, 100]), \n",
    "                              cA=array([ 5.137,  4.568,  4.548,  4.461,  4.382, 4.525,  4.483,  4.565,  4.459,  4.635])),\n",
    "              ]\n",
    "\n",
    "for i,e in enumerate(experiments):\n",
    "    print(\"Experiment {} was at T={}K and ran for {} seconds\".format(i, e.T, e.times[-1]))\n",
    "    plot_experiment(e)"
   ]
  },
  {
   "cell_type": "code",
   "execution_count": 5,
   "metadata": {
    "collapsed": false
   },
   "outputs": [],
   "source": [
    "ParameterSet = namedtuple('ParameterSet', ['logA', 'Ea', 'dH', 'dS'])\n",
    "\n",
    "# This is a sensible starting guess for your fitting\n",
    "starting_guess = ParameterSet(\n",
    "    logA = 6. , # base-ten logarithm of A in s^-1\n",
    "    Ea = 45e3 , # Ea in J/mol\n",
    "    dH = -10e3 , # ∆H in J/mol\n",
    "    dS = -50.  # ∆S in J/mol/K\n",
    "    )\n",
    "\n",
    "# This should end up with your optimized parameters\n",
    "optimized_parameters = ParameterSet(0,0,0,0)\n",
    "\n",
    "\n",
    "# This should end up with your standard errors (one sigma)\n",
    "# for the uncertainties in the fitted parameters.\n",
    "# i.e. there should be a 68% chance the true value is \n",
    "# at least this close to your optimized parameter.\n",
    "standard_errors = ParameterSet(0,0,0,0)\n"
   ]
  },
  {
   "cell_type": "markdown",
   "metadata": {},
   "source": [
    "Given $C_a, T, t$\n",
    "\n",
    "$\\frac{dC_a}{dt}=Ra$\n",
    "\n",
    "$R_a=k_r \\times C_b-k_f \\times C_a$\n",
    "\n",
    "$k_f=A*\\exp\\left(\\frac{-E_A}{R T}\\right)$\n",
    "\n",
    "$Kc=\\exp\\left(\\frac{\\Delta G}{R T}\\right)=\\exp\\left(\\frac{\\Delta H - T \\times \\Delta S}{R T}\\right)=k_f/k_r$\n",
    "\n",
    "$C_b=C_0-C_a$\n",
    "\n",
    "$k_r = \\frac{k_f}{K_c}$\n",
    "\n",
    "$\\frac{dC_a}{dt}=A*\\exp\\left(\\frac{-E_A}{R T}\\right) *(C_a-\\frac{1}{\\exp\\left(\\frac{\\Delta H - T \\times \\Delta S}{R T}\\right)} *(C_0-C_a))$\n",
    "\n",
    "From Wolfram the solution to this separable differential equation is \n",
    "\n",
    "$C_a = \\frac{C_0 * \\frac{1}{\\exp\\left(\\frac{\\Delta H - T \\times \\Delta S}{R T}\\right)}}{\\frac{1}{\\exp\\left(\\frac{\\Delta H - T \\times \\Delta S}{R T}\\right) }+ 1}+C_1 * \\exp\\left(t * (A *\\exp\\left(\\frac{-E_A}{R T}\\right) * (-1) (1+\\frac{1}{\\exp\\left(\\frac{\\Delta H - T \\times \\Delta S}{R T}\\right)} )\\right)$\n",
    "\n",
    "$C_1 = C_0 - \\frac{C_0 * \\frac{1}{\\exp\\left(\\frac{\\Delta H - T \\times \\Delta S}{R T}\\right)}}{\\frac{1}{\\exp\\left(\\frac{\\Delta H - T \\times \\Delta S}{R T}\\right) }+ 1}=C_0 - \\frac{C_0}{\\exp\\left(\\frac{\\Delta H - T \\times \\Delta S}{R T}\\right) +1}$"
   ]
  },
  {
   "cell_type": "markdown",
   "metadata": {},
   "source": [
    "We could approach this trying to use curve fit..."
   ]
  },
  {
   "cell_type": "code",
   "execution_count": 6,
   "metadata": {
    "collapsed": false
   },
   "outputs": [],
   "source": [
    "def Ca(t,A,E,dH,dS):\n",
    "    R=8.314 #J/mol/K\n",
    "    C0=10.\n",
    "    T=298.15\n",
    "    C1 = C0-C0/(np.exp((dH-T*dS)/(R*T))+1)       \n",
    "    b = C0/(np.exp((dH-T*dS)/(R*T))+1)     \n",
    "    exp = np.exp(t * 10**(A) * np.exp(-E/(R*T)) * (-1)*(1 + 1/(np.exp((dH-T*dS)/(R*T)))))\n",
    "    return b+C1*exp"
   ]
  },
  {
   "cell_type": "code",
   "execution_count": 7,
   "metadata": {
    "collapsed": true
   },
   "outputs": [],
   "source": [
    "from scipy.odr import Model, Data, RealData, ODR\n",
    "import scipy.odr as odr"
   ]
  },
  {
   "cell_type": "code",
   "execution_count": 8,
   "metadata": {
    "collapsed": true
   },
   "outputs": [],
   "source": [
    "times=array([ 10,  20,  30,  40,  50,  60,  70,  80,  90, 100])\n",
    "cA=array([ 8.649,  7.441,  7.141,  6.366,  6.215, 5.990, 5.852,  5.615,  5.481 ,  5.644])"
   ]
  },
  {
   "cell_type": "code",
   "execution_count": 9,
   "metadata": {
    "collapsed": false
   },
   "outputs": [
    {
     "name": "stdout",
     "output_type": "stream",
     "text": [
      "Parameter 0: 1.0 +/- inf (1 st. dev.)\n",
      "Parameter 1: 1.0 +/- inf (1 st. dev.)\n",
      "Parameter 2: -38471.4639949151 +/- inf (1 st. dev.)\n",
      "Parameter 3: -124.10792789431792 +/- inf (1 st. dev.)\n"
     ]
    },
    {
     "name": "stderr",
     "output_type": "stream",
     "text": [
      "//anaconda/envs/py3/lib/python3.5/site-packages/scipy/optimize/minpack.py:715: OptimizeWarning: Covariance of the parameters could not be estimated\n",
      "  category=OptimizeWarning)\n"
     ]
    }
   ],
   "source": [
    "optimal_parameters, covariance = scipy.optimize.curve_fit(Ca,times,cA)\n",
    "def report(optimal_parameters, covariance):\n",
    "    \"Make this a function so we can reuse it in cells below\"\n",
    "    parameter_errors = np.sqrt(np.diag(covariance))\n",
    "    for i in range(len(optimal_parameters)):\n",
    "        print(\"Parameter {}: {} +/- {} (1 st. dev.)\".format(i,\n",
    "                                                            optimal_parameters[i],\n",
    "                                                            parameter_errors[i]))\n",
    "\n",
    "report(optimal_parameters, covariance)"
   ]
  },
  {
   "cell_type": "markdown",
   "metadata": {},
   "source": [
    "hmmmm these parameters look funky...."
   ]
  },
  {
   "cell_type": "code",
   "execution_count": 10,
   "metadata": {
    "collapsed": false
   },
   "outputs": [
    {
     "data": {
      "image/png": "[encoded data removed]",
      "text/plain": [
       "<matplotlib.figure.Figure at 0x111f66390>"
      ]
     },
     "metadata": {},
     "output_type": "display_data"
    }
   ],
   "source": [
    "# Plot the data\n",
    "plt.plot(times, cA, 'o', label='data')\n",
    "# Make a new x array with 50 points for smoother lines\n",
    "x_many_points = np.linspace(times.min(),times.max(),50)\n",
    "# Plot the fitted curve\n",
    "plt.plot(x_many_points, Ca(x_many_points, *optimal_parameters), label='fitted')\n",
    "# Add the legend, in the \"best\" location to avoid hiding the data\n",
    "plt.legend(loc='best')\n",
    "plt.show()"
   ]
  },
  {
   "cell_type": "markdown",
   "metadata": {},
   "source": [
    "Plot looks odd... Also How do we introduce the additional data sets.  Curve_fit will only take 1 data set...\n",
    "\n",
    "A search online found the following resource  http://stackoverflow.com/questions/26242979/fit-multiple-parametric-curves-with-scipy\n",
    "\n",
    "Will attempt to implement"
   ]
  },
  {
   "cell_type": "code",
   "execution_count": 11,
   "metadata": {
    "collapsed": false
   },
   "outputs": [],
   "source": [
    "def function(t,C0,T,logA,E,dH,dS):\n",
    "    R=8.314 #J/mol/K\n",
    "    C1 = C0-C0/(np.exp((dH-T*dS)/(R*T))+1)       \n",
    "    b = C0/(np.exp((dH-T*dS)/(R*T))+1)     \n",
    "    exp = np.exp(t * 10**(logA) * np.exp(-E/(R*T)) * (-1)*(1 + 1/(np.exp((dH-T*dS)/(R*T)))))\n",
    "    return b+C1*exp\n",
    "\n",
    "t=array([10,  20,  30,  40,  50,  60,  70,  80,  90, 100,10,  20,  30,  40,  50,  60,  70,  80,  90, 100,10,  20,  30,  40,  50,  60,  70,  80,  90, 100])\n",
    "cA=array([ 8.649,  7.441,  7.141,  6.366,  6.215, 5.990, 5.852,  5.615,  5.481 ,  5.644,7.230,  6.073,  5.452,  5.317,  5.121, 4.998,  4.951,  4.978,  5.015,  5.036,5.137,  4.568,  4.548,  4.461,  4.382, 4.525,  4.483,  4.565,  4.459,  4.635])\n",
    "n1=10\n",
    "n2=20\n",
    "\n",
    "def leastsq_function(params, *args):\n",
    "    logA = params[0]\n",
    "    E = params[1]\n",
    "    dH = params[2]\n",
    "    dS = params[3]\n",
    "    t = args[0]\n",
    "    cA = args[1]\n",
    "    C0 = args[2]\n",
    "    T = args[3]\n",
    "\n",
    "    Ca_fit = np.empty(t.shape)\n",
    "    Ca_fit[:n1] = function(t[:n1], C0[0], T[0], logA, E, dH, dS)\n",
    "    Ca_fit[n1:n2] = function(t[n1:n2], C0[1], T[1], logA, E, dH, dS)\n",
    "    Ca_fit[n2:] = function(t[n2:], C0[2], T[2], logA, E, dH, dS)\n",
    "\n",
    "    return cA - Ca_fit\n",
    "\n",
    "\n",
    "\n",
    "params0 = [6, 45e3, -10e3,-50]\n",
    "args = (t, cA, (10, 10, 10), (298.15, 308.15, 323.15), (n1, n1+n2))\n",
    "pfit, pcov, infodict, errmsg, success = scipy.optimize.leastsq(leastsq_function, params0, args=args,full_output=1)\n"
   ]
  },
  {
   "cell_type": "markdown",
   "metadata": {},
   "source": [
    "These are reasonable parameters given the initial guesses!  Lets work to plot them against the 3 data sets"
   ]
  },
  {
   "cell_type": "code",
   "execution_count": 12,
   "metadata": {
    "collapsed": false
   },
   "outputs": [],
   "source": [
    "logA=pfit[0]\n",
    "E=pfit[1]\n",
    "dH=pfit[2]\n",
    "dS=pfit[3]\n"
   ]
  },
  {
   "cell_type": "code",
   "execution_count": 13,
   "metadata": {
    "collapsed": false
   },
   "outputs": [
    {
     "data": {
      "image/png": "[encoded data removed]",
      "text/plain": [
       "<matplotlib.figure.Figure at 0x111aa9e80>"
      ]
     },
     "metadata": {},
     "output_type": "display_data"
    }
   ],
   "source": [
    "#Rewrite the data to check\n",
    "t1=np.array([ 10,  20,  30,  40,  50,  60,  70,  80,  90, 100])\n",
    "cA1=np.array([ 8.649,  7.441,  7.141,  6.366,  6.215, 5.990, 5.852,  5.615,  5.481 ,  5.644])\n",
    "t2=np.array([ 10,  20,  30,  40,  50,  60,  70,  80,  90, 100])\n",
    "cA2=np.array([ 7.230,  6.073,  5.452,  5.317,  5.121, 4.998,  4.951,  4.978,  5.015,  5.036])\n",
    "t3=np.array([ 10,  20,  30,  40,  50,  60,  70,  80,  90, 100])\n",
    "cA3=np.array([ 5.137,  4.568,  4.548,  4.461,  4.382, 4.525,  4.483,  4.565,  4.459,  4.635])\n",
    "\n",
    "# Plot the data\n",
    "plt.plot(t1, cA1, 'o', label='data')\n",
    "plt.plot(t2, cA2, 'o', label='data')\n",
    "plt.plot(t3, cA3, 'o', label='data')\n",
    "# Plot the fitted curve\n",
    "plt.plot(t1, function(t1,10.,298.15,logA,E,dH,dS ), label='fitted')\n",
    "plt.plot(t2, function(t2,10.,308.15,logA,E,dH,dS ), label='fitted')\n",
    "plt.plot(t3, function(t3,10.,323.15,logA,E,dH,dS ), label='fitted')\n",
    "# Add the legend, in the \"best\" location to avoid hiding the data\n",
    "plt.legend(loc='best')\n",
    "plt.show()"
   ]
  },
  {
   "cell_type": "markdown",
   "metadata": {},
   "source": [
    "The fitted curves matched all the data sets!  Time to calculate the errors..."
   ]
  },
  {
   "cell_type": "markdown",
   "metadata": {},
   "source": [
    "Used help from http://stackoverflow.com/questions/14581358/getting-standard-errors-on-fitted-parameters-using-the-optimize-leastsq-method-i\n",
    "\n",
    "In order to solve for the errors we first need to convert the covariance matrix by multiplying it by the residual variance.  We then need to get the square root of the diagonals of the matrix for the erros associated with the fitted parameters.  \n",
    "\n",
    "This code below is written do this with the previously defined leastsq_function"
   ]
  },
  {
   "cell_type": "code",
   "execution_count": 14,
   "metadata": {
    "collapsed": false
   },
   "outputs": [
    {
     "name": "stdout",
     "output_type": "stream",
     "text": [
      "0.367232258793\n",
      "2137.71097888\n",
      "790.492861472\n",
      "2.51289798174\n",
      "\n",
      "Fit paramters and parameter errors from leastsq method :\n",
      "pfit =  [  9.48853174e+00   6.43077887e+04  -1.15315215e+04  -3.73495283e+01]\n",
      "perr =  [0.36723225879332022, 2137.7109788831367, 790.49286147190332, 2.5128979817355352]\n"
     ]
    }
   ],
   "source": [
    "args = (t, cA, (10, 10, 10), (298.15, 308.15, 323.15), (n1, n1+n2))\n",
    "\n",
    "s_sq = (leastsq_function(pfit,*args)**2).sum()/(len(cA)-len(params0))\n",
    "pcov = pcov * s_sq\n",
    "error = [] \n",
    "for i in range(len(pfit)):\n",
    "    error.append(np.absolute(pcov[i][i])**0.5)\n",
    "    print(np.absolute(pcov[i][i])**0.5)\n",
    "pfit_leastsq = pfit\n",
    "perr_leastsq = error\n",
    "\n",
    "print(\"\\nFit paramters and parameter errors from leastsq method :\")\n",
    "print(\"pfit = \", pfit_leastsq)\n",
    "print(\"perr = \", perr_leastsq)"
   ]
  },
  {
   "cell_type": "code",
   "execution_count": 15,
   "metadata": {
    "collapsed": false
   },
   "outputs": [
    {
     "name": "stdout",
     "output_type": "stream",
     "text": [
      "[6, 45000.0, -10000.0, -50]\n",
      "[  9.48853174e+00   6.43077887e+04  -1.15315215e+04  -3.73495283e+01]\n",
      "[0.36723225879332022, 2137.7109788831367, 790.49286147190332, 2.5128979817355352]\n"
     ]
    }
   ],
   "source": [
    "# Finish your notebook with this cell\n",
    "print(params0)\n",
    "print(pfit_leastsq)\n",
    "print(perr_leastsq)"
   ]
  }
 ],
 "metadata": {
  "anaconda-cloud": {},
  "kernelspec": {
   "display_name": "Python [py3]",
   "language": "python",
   "name": "Python [py3]"
  },
  "language_info": {
   "codemirror_mode": {
    "name": "ipython",
    "version": 3
   },
   "file_extension": ".py",
   "mimetype": "text/x-python",
   "name": "python",
   "nbconvert_exporter": "python",
   "pygments_lexer": "ipython3",
   "version": "3.5.2"
  }
 },
 "nbformat": 4,
 "nbformat_minor": 1
}
